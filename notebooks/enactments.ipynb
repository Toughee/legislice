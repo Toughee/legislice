{
 "cells": [
  {
   "cell_type": "markdown",
   "metadata": {},
   "source": [
    "# Comparing Enactments"
   ]
  },
  {
   "cell_type": "markdown",
   "metadata": {},
   "source": [
    "This notebook will show you how `legislice` provides convenient functions for comparing passages of legislative text."
   ]
  },
  {
   "cell_type": "markdown",
   "metadata": {},
   "source": [
    "As explained in the [downloading guide](https://legislice.readthedocs.io/en/latest/guides/downloading.html), begin by creating a `Client` to download and create `Enactment` objects."
   ]
  },
  {
   "cell_type": "code",
   "execution_count": 1,
   "metadata": {},
   "outputs": [],
   "source": [
    "import os\n",
    "from dotenv import load_dotenv\n",
    "from legislice.download import Client\n",
    "\n",
    "load_dotenv()\n",
    "\n",
    "TOKEN = os.getenv(\"LEGISLICE_API_TOKEN\")\n",
    "client = Client(api_token=TOKEN)"
   ]
  },
  {
   "cell_type": "markdown",
   "metadata": {},
   "source": [
    "## Features of an Enactment"
   ]
  },
  {
   "cell_type": "markdown",
   "metadata": {},
   "source": [
    "Now let's load the Fourteenth Amendment. You can get its effective date as a Python `date` object."
   ]
  },
  {
   "cell_type": "code",
   "execution_count": 2,
   "metadata": {},
   "outputs": [
    {
     "data": {
      "text/plain": [
       "datetime.date(1868, 7, 28)"
      ]
     },
     "execution_count": 2,
     "metadata": {},
     "output_type": "execute_result"
    }
   ],
   "source": [
    "fourteenth_amendment = client.read(query=\"/us/const/amendment/XIV\")\n",
    "fourteenth_amendment.start_date"
   ]
  },
  {
   "cell_type": "markdown",
   "metadata": {},
   "source": [
    "You can also view its `level`, which is \"constitution\", as opposed to \"statute\" or \"regulation\"."
   ]
  },
  {
   "cell_type": "code",
   "execution_count": 3,
   "metadata": {},
   "outputs": [
    {
     "data": {
      "text/plain": [
       "'constitution'"
      ]
     },
     "execution_count": 3,
     "metadata": {},
     "output_type": "execute_result"
    }
   ],
   "source": [
    "fourteenth_amendment.level"
   ]
  },
  {
   "cell_type": "markdown",
   "metadata": {},
   "source": [
    "And you can find out the `node`, or place in the document tree, for the Fourteenth Amendment itself as well at its subsections."
   ]
  },
  {
   "cell_type": "code",
   "execution_count": 4,
   "metadata": {},
   "outputs": [
    {
     "data": {
      "text/plain": [
       "'/us/const/amendment/XIV'"
      ]
     },
     "execution_count": 4,
     "metadata": {},
     "output_type": "execute_result"
    }
   ],
   "source": [
    "fourteenth_amendment.node"
   ]
  },
  {
   "cell_type": "code",
   "execution_count": 5,
   "metadata": {},
   "outputs": [
    {
     "data": {
      "text/plain": [
       "'/us/const/amendment/XIV/1'"
      ]
     },
     "execution_count": 5,
     "metadata": {},
     "output_type": "execute_result"
    }
   ],
   "source": [
    "fourteenth_amendment.children[0].node"
   ]
  },
  {
   "cell_type": "markdown",
   "metadata": {},
   "source": [
    "You can also isolate parts of the `node` path, such as the `jurisdiction` and `code` the amendment comes from."
   ]
  },
  {
   "cell_type": "code",
   "execution_count": 6,
   "metadata": {},
   "outputs": [
    {
     "data": {
      "text/plain": [
       "'us'"
      ]
     },
     "execution_count": 6,
     "metadata": {},
     "output_type": "execute_result"
    }
   ],
   "source": [
    "fourteenth_amendment.jurisdiction"
   ]
  },
  {
   "cell_type": "code",
   "execution_count": 7,
   "metadata": {},
   "outputs": [
    {
     "data": {
      "text/plain": [
       "'const'"
      ]
     },
     "execution_count": 7,
     "metadata": {},
     "output_type": "execute_result"
    }
   ],
   "source": [
    "fourteenth_amendment.code"
   ]
  },
  {
   "cell_type": "markdown",
   "metadata": {},
   "source": [
    "## Selecting text"
   ]
  },
  {
   "cell_type": "markdown",
   "metadata": {},
   "source": [
    "When you use the `selected_text` method, you get all the enacted text in the Fourteenth Amendment, including all its subsections."
   ]
  },
  {
   "cell_type": "code",
   "execution_count": 8,
   "metadata": {
    "scrolled": true
   },
   "outputs": [
    {
     "data": {
      "text/plain": [
       "'All persons born or naturalized in the United States, and subject to the jurisdiction thereof, are citizens of the United States and of the State wherein they reside. No State shall make or enforce any law which shall abridge the privileges or immunities of citizens of the United States; nor shall any State deprive any person of life, liberty, or property, without due process of law; nor deny to any person within its jurisdiction the equal protection of the laws. Representatives shall be apportioned among the several States according to their respective numbers, counting the whole number of persons in each State, excluding Indians not taxed. But when the right to vote at any election for the choice of electors for President and Vice President of the United States, Representatives in Congress, the Executive and Judicial officers of a State, or the members of the Legislature thereof, is denied to any of the male inhabitants of such State, being twenty-one years of age, and citizens of the United States, or in any way abridged, except for participation in rebellion, or other crime, the basis of representation therein shall be reduced in the proportion which the number of such male citizens shall bear to the whole number of male citizens twenty-one years of age in such State. No person shall be a Senator or Representative in Congress, or elector of President and Vice President, or hold any office, civil or military, under the United States, or under any State, who, having previously taken an oath, as a member of Congress, or as an officer of the United States, or as a member of any State legislature, or as an executive or judicial officer of any State, to support the Constitution of the United States, shall have engaged in insurrection or rebellion against the same, or given aid or comfort to the enemies thereof. But Congress may by a vote of two-thirds of each House, remove such disability. The validity of the public debt of the United States, authorized by law, including debts incurred for payment of pensions and bounties for services in suppressing insurrection or rebellion, shall not be questioned. But neither the United States nor any State shall assume or pay any debt or obligation incurred in aid of insurrection or rebellion against the United States, or any claim for the loss or emancipation of any slave; but all such debts, obligations and claims shall be held illegal and void. The Congress shall have power to enforce, by appropriate legislation, the provisions of this article.'"
      ]
     },
     "execution_count": 8,
     "metadata": {},
     "output_type": "execute_result"
    }
   ],
   "source": [
    "fourteenth_amendment.selected_text()"
   ]
  },
  {
   "cell_type": "markdown",
   "metadata": {},
   "source": [
    "However, you might want an `Enactment` object that only represents a part of the Fourteenth Amendment that's relevant to a particular case. You can use the `select` method to limit the text of the provision that's considered \"selected\". One way to do this is with a series of strings that exactly match the text you want to select. "
   ]
  },
  {
   "cell_type": "code",
   "execution_count": 9,
   "metadata": {},
   "outputs": [],
   "source": [
    "fourteenth_amendment.select([\"No State shall\", \"deprive any person of\", \"liberty\", \"without due process of law\"])"
   ]
  },
  {
   "cell_type": "markdown",
   "metadata": {},
   "source": [
    "Now that you've selected only some of the text, the output of the `selected_text` method will be different."
   ]
  },
  {
   "cell_type": "code",
   "execution_count": 10,
   "metadata": {},
   "outputs": [
    {
     "data": {
      "text/plain": [
       "'…No State shall…deprive any person of…liberty…without due process of law…'"
      ]
     },
     "execution_count": 10,
     "metadata": {},
     "output_type": "execute_result"
    }
   ],
   "source": [
    "fourteenth_amendment.selected_text()"
   ]
  },
  {
   "cell_type": "markdown",
   "metadata": {},
   "source": [
    "Every time you use the `select` method, it clears any existing text selection from the Enactment. But if you want to select additional text without clearing the existing selection, you can use `select_more`. It's okay if the selection you pass in to `select_more` overlaps with text you've already selected."
   ]
  },
  {
   "cell_type": "code",
   "execution_count": 11,
   "metadata": {},
   "outputs": [
    {
     "data": {
      "text/plain": [
       "'…No State shall…deprive any person of life, liberty, or property, without due process of law…'"
      ]
     },
     "execution_count": 11,
     "metadata": {},
     "output_type": "execute_result"
    }
   ],
   "source": [
    "fourteenth_amendment.select_more(\"life, liberty, or property,\")\n",
    "fourteenth_amendment.selected_text()"
   ]
  },
  {
   "cell_type": "markdown",
   "metadata": {},
   "source": [
    "If you need to select a passage that occurs more than once in the Enactment, you can import the `TextQuoteSelector` class instead of using strings. With a `TextQuoteSelector`, you specify not just the `exact` phrase you want to select, but also a `prefix` or `suffix` that makes the phrase uniquely identifiable. In this example, the text being selected is the second instance of the phrase \"twenty-one years of age\" in the Fourteenth Amendment."
   ]
  },
  {
   "cell_type": "code",
   "execution_count": 12,
   "metadata": {},
   "outputs": [],
   "source": [
    "from legislice.enactments import TextQuoteSelector\n",
    "fourteenth_amendment.select(TextQuoteSelector(prefix=\"male citizens \", exact=\"twenty-one years of age\"))"
   ]
  },
  {
   "cell_type": "code",
   "execution_count": 13,
   "metadata": {},
   "outputs": [
    {
     "data": {
      "text/plain": [
       "'…twenty-one years of age…'"
      ]
     },
     "execution_count": 13,
     "metadata": {},
     "output_type": "execute_result"
    }
   ],
   "source": [
    "fourteenth_amendment.selected_text()"
   ]
  },
  {
   "cell_type": "markdown",
   "metadata": {},
   "source": [
    "You can also access the start and endpoints of the quoted passages, but there's a potential source of confusion: the `selection` attribute only provides you with the selected parts of the current node, not of the child nodes. For the Fourteenth Amendment, that will return an empty set because all of the Fourteenth Amendment's text is nested within numbered sections."
   ]
  },
  {
   "cell_type": "code",
   "execution_count": 14,
   "metadata": {},
   "outputs": [
    {
     "data": {
      "text/plain": [
       "TextPositionSet{}"
      ]
     },
     "execution_count": 14,
     "metadata": {},
     "output_type": "execute_result"
    }
   ],
   "source": [
    "fourteenth_amendment.selection"
   ]
  },
  {
   "cell_type": "markdown",
   "metadata": {},
   "source": [
    "To see the positions of the selected text in the child nodes as well, you need to use `tree_selection`. This is a method, not an attribute, so you need to include the parentheses at the end of the statement to make it work. In this example, the selected phrase \"twenty-one years of age\" starts on the 1254th character of the Fourteenth Amendment's text."
   ]
  },
  {
   "cell_type": "code",
   "execution_count": 15,
   "metadata": {},
   "outputs": [
    {
     "data": {
      "text/plain": [
       "TextPositionSet{TextPositionSelector[1254, 1277)}"
      ]
     },
     "execution_count": 15,
     "metadata": {},
     "output_type": "execute_result"
    }
   ],
   "source": [
    "fourteenth_amendment.tree_selection()"
   ]
  },
  {
   "cell_type": "markdown",
   "metadata": {},
   "source": [
    "You could also look at the `selection` attributes of the child nodes to see the positions of their selected text. But note: if you access the `selection` attribute on section 2 of the Fourteenth Amendment, then the starting index of the selected passage is counted from the beginning of section 2, not from the beginning of the entire Fourteenth Amendment."
   ]
  },
  {
   "cell_type": "code",
   "execution_count": 16,
   "metadata": {},
   "outputs": [
    {
     "data": {
      "text/plain": [
       "TextPositionSet{TextPositionSelector[786, 809)}"
      ]
     },
     "execution_count": 16,
     "metadata": {},
     "output_type": "execute_result"
    }
   ],
   "source": [
    "fourteenth_amendment.children[1].selection"
   ]
  },
  {
   "cell_type": "markdown",
   "metadata": {},
   "source": [
    "If you happen to know the start and end indices of the passage you want, then you can use a `TextPositionSelector` or `TextPositionSet` to select it, instead of specifying the exact text."
   ]
  },
  {
   "cell_type": "code",
   "execution_count": 17,
   "metadata": {},
   "outputs": [],
   "source": [
    "from legislice.enactments import TextPositionSelector, TextPositionSet\n",
    "\n",
    "fourteenth_amendment.select(TextPositionSet([TextPositionSelector(1921, 1973), TextPositionSelector(2111, 2135)]))"
   ]
  },
  {
   "cell_type": "code",
   "execution_count": 18,
   "metadata": {},
   "outputs": [
    {
     "data": {
      "text/plain": [
       "'…The validity of the public debt of the United States…shall not be questioned.…'"
      ]
     },
     "execution_count": 18,
     "metadata": {},
     "output_type": "execute_result"
    }
   ],
   "source": [
    "fourteenth_amendment.selected_text()"
   ]
  },
  {
   "cell_type": "markdown",
   "metadata": {},
   "source": [
    "## Comparing selected text"
   ]
  },
  {
   "cell_type": "markdown",
   "metadata": {},
   "source": [
    "Legislice provides methods for comparing the selected text in Enactments. To get started, I'll use Python's `deepcopy` function to make a copy of the Enactment I was working on at the end of section 2. (If I used regular `copy` instead of `deepcopy`, then making changes to the copy could cause changes to the original, which would be confusing.)"
   ]
  },
  {
   "cell_type": "code",
   "execution_count": 19,
   "metadata": {},
   "outputs": [
    {
     "data": {
      "text/plain": [
       "'The validity of the public debt of the United States…shall not be questioned.…'"
      ]
     },
     "execution_count": 19,
     "metadata": {},
     "output_type": "execute_result"
    }
   ],
   "source": [
    "from copy import deepcopy\n",
    "\n",
    "public_debt_provision = deepcopy(fourteenth_amendment.children[3])\n",
    "public_debt_provision.selected_text()"
   ]
  },
  {
   "cell_type": "markdown",
   "metadata": {},
   "source": [
    "Next, I'll change the selected text of the original `Enactment` to include all the text that was selected before, plus more."
   ]
  },
  {
   "cell_type": "code",
   "execution_count": 20,
   "metadata": {},
   "outputs": [
    {
     "data": {
      "text/plain": [
       "'…The validity of the public debt of the United States, authorized by law, including debts incurred for payment of pensions and bounties for services in suppressing insurrection or rebellion, shall not be questioned.…'"
      ]
     },
     "execution_count": 20,
     "metadata": {},
     "output_type": "execute_result"
    }
   ],
   "source": [
    "fourteenth_amendment.select(TextPositionSelector(1921, 2135))\n",
    "fourteenth_amendment.selected_text()"
   ]
  },
  {
   "cell_type": "markdown",
   "metadata": {},
   "source": [
    "Now I can compare the text selections in these two Enactments. The `implies` method checks whether the Enactment on the left has all the text of the Enactment on the right. The `means` method checks whether they both have the same text."
   ]
  },
  {
   "cell_type": "code",
   "execution_count": 21,
   "metadata": {},
   "outputs": [
    {
     "data": {
      "text/plain": [
       "True"
      ]
     },
     "execution_count": 21,
     "metadata": {},
     "output_type": "execute_result"
    }
   ],
   "source": [
    "fourteenth_amendment.implies(public_debt_provision)"
   ]
  },
  {
   "cell_type": "markdown",
   "metadata": {},
   "source": [
    "You can also use Python's built-in \"greater than or equal\" operator as an alias for the `implies` method."
   ]
  },
  {
   "cell_type": "code",
   "execution_count": 22,
   "metadata": {},
   "outputs": [
    {
     "data": {
      "text/plain": [
       "True"
      ]
     },
     "execution_count": 22,
     "metadata": {},
     "output_type": "execute_result"
    }
   ],
   "source": [
    "fourteenth_amendment >= public_debt_provision"
   ]
  },
  {
   "cell_type": "markdown",
   "metadata": {},
   "source": [
    "Notice that Legislice is able to compare these two passages even though `amendment` is a text selection from the entire Fourteenth Amendment, while `public_debt_provision` is a text selection from only section 4 of the Fourteenth Amendment. You can verify this by checking the \"node\" attribute on each Enactment."
   ]
  },
  {
   "cell_type": "code",
   "execution_count": 23,
   "metadata": {},
   "outputs": [
    {
     "data": {
      "text/plain": [
       "'/us/const/amendment/XIV'"
      ]
     },
     "execution_count": 23,
     "metadata": {},
     "output_type": "execute_result"
    }
   ],
   "source": [
    "fourteenth_amendment.node"
   ]
  },
  {
   "cell_type": "code",
   "execution_count": 24,
   "metadata": {},
   "outputs": [
    {
     "data": {
      "text/plain": [
       "'/us/const/amendment/XIV/4'"
      ]
     },
     "execution_count": 24,
     "metadata": {},
     "output_type": "execute_result"
    }
   ],
   "source": [
    "public_debt_provision.node"
   ]
  },
  {
   "cell_type": "markdown",
   "metadata": {},
   "source": [
    "If you want to determine whether two Enactments have the same text (and neither has any more than the other), use the `means` method. Here's how you can check that the Fifth Amendment doesn't have identical text to the first section of the Fourteenth Amendment."
   ]
  },
  {
   "cell_type": "code",
   "execution_count": 25,
   "metadata": {},
   "outputs": [
    {
     "data": {
      "text/plain": [
       "'No person shall be held to answer for a capital, or otherwise infamous crime, unless on a presentment or indictment of a Grand Jury, except in cases arising in the land or naval forces, or in the Militia, when in actual service in time of War or public danger; nor shall any person be subject for the same offence to be twice put in jeopardy of life or limb; nor shall be compelled in any Criminal Case to be a witness against himself; nor be deprived of life, liberty, or property, without due process of law; nor shall private property be taken for public use, without just compensation.'"
      ]
     },
     "execution_count": 25,
     "metadata": {},
     "output_type": "execute_result"
    }
   ],
   "source": [
    "fifth_amendment = client.read(query=\"/us/const/amendment/V\")\n",
    "fifth_amendment.selected_text()"
   ]
  },
  {
   "cell_type": "code",
   "execution_count": 26,
   "metadata": {},
   "outputs": [
    {
     "data": {
      "text/plain": [
       "False"
      ]
     },
     "execution_count": 26,
     "metadata": {},
     "output_type": "execute_result"
    }
   ],
   "source": [
    "fourteenth_amendment_section_1 = client.read(query=\"/us/const/amendment/XIV/1\")\n",
    "fifth_amendment.means(fourteenth_amendment_section_1)"
   ]
  },
  {
   "cell_type": "markdown",
   "metadata": {},
   "source": [
    "However, the Fifth Amendment and the first section of the Fourteenth Amendment both happen to contain the phrase \"life, liberty, or property, without due process of law\". If you select that same passage from both provisions, then you can use the `means` method to verify that both text selections are identical."
   ]
  },
  {
   "cell_type": "code",
   "execution_count": 27,
   "metadata": {},
   "outputs": [
    {
     "data": {
      "text/plain": [
       "True"
      ]
     },
     "execution_count": 27,
     "metadata": {},
     "output_type": "execute_result"
    }
   ],
   "source": [
    "phrase = \"life, liberty, or property, without due process of law\"\n",
    "fourteenth_amendment_section_1.select(phrase)\n",
    "fifth_amendment.select(phrase)\n",
    "fourteenth_amendment_section_1.means(fifth_amendment)"
   ]
  },
  {
   "cell_type": "markdown",
   "metadata": {},
   "source": [
    "There are many situations in real legal analysis where it's helpful to know if identical text has been enacted at different citations. It could mean that the identical section has been renumbered, or it could mean that a judicial interpretation of one Enactment is also relevant to the other Enactment. Legislice's `implies` and `means` methods can help you automate that analysis."
   ]
  },
  {
   "cell_type": "markdown",
   "metadata": {},
   "source": [
    "Since you can use `>=` as an alias for `implies`, you might expect to be able to use `==` as an alias for `means`. Currently you can't do that, because overriding the equals function could interfere with Python's ability to determine what objects are identical, and could cause bugs that would be difficult to diagnose. However, you can use `>` as an alias that returns `True` only if `implies` would return `True` while `means` would return `False`."
   ]
  },
  {
   "cell_type": "markdown",
   "metadata": {},
   "source": [
    "## Combining Enactments"
   ]
  },
  {
   "cell_type": "markdown",
   "metadata": {},
   "source": [
    "When you have two Enactments and either they are at the same node or one is a descendant of the other, you can combine them into a new Enactment using the addition sign. Here's an example from a copyright statute in the United States Code. The example shows that you can load section `/us/usc/t17/s103`, select some text from subsection `b` of that provision, and then add it to a separate Enactment representing the entirety of subsection `/us/usc/t17/s103/a`. Legislice combines the text from subsection `a` and subsection `b` in the correct order."
   ]
  },
  {
   "cell_type": "code",
   "execution_count": 28,
   "metadata": {},
   "outputs": [],
   "source": [
    "s103 = client.read(query=\"/us/usc/t17/s103\", date=\"2020-01-01\")\n",
    "selections = [\"The copyright in such work is independent of\",\n",
    "              \"any copyright protection in the preexisting material.\"]\n",
    "s103.select(selections)"
   ]
  },
  {
   "cell_type": "code",
   "execution_count": 29,
   "metadata": {},
   "outputs": [
    {
     "data": {
      "text/plain": [
       "'…The copyright in such work is independent of…any copyright protection in the preexisting material.'"
      ]
     },
     "execution_count": 29,
     "metadata": {},
     "output_type": "execute_result"
    }
   ],
   "source": [
    "s103.selected_text()"
   ]
  },
  {
   "cell_type": "code",
   "execution_count": 30,
   "metadata": {},
   "outputs": [
    {
     "data": {
      "text/plain": [
       "'The subject matter of copyright as specified by section 102 includes compilations and derivative works, but protection for a work employing preexisting material in which copyright subsists does not extend to any part of the work in which such material has been used unlawfully.'"
      ]
     },
     "execution_count": 30,
     "metadata": {},
     "output_type": "execute_result"
    }
   ],
   "source": [
    "s103a = client.read(query=\"/us/usc/t17/s103/a\", date=\"2020-01-01\")\n",
    "s103a.selected_text()"
   ]
  },
  {
   "cell_type": "code",
   "execution_count": 31,
   "metadata": {},
   "outputs": [
    {
     "data": {
      "text/plain": [
       "'The subject matter of copyright as specified by section 102 includes compilations and derivative works, but protection for a work employing preexisting material in which copyright subsists does not extend to any part of the work in which such material has been used unlawfully.…The copyright in such work is independent of…any copyright protection in the preexisting material.'"
      ]
     },
     "execution_count": 31,
     "metadata": {},
     "output_type": "execute_result"
    }
   ],
   "source": [
    "combined_enactment = s103 + s103a\n",
    "combined_enactment.selected_text()"
   ]
  },
  {
   "cell_type": "markdown",
   "metadata": {},
   "source": [
    "## EnactmentGroups"
   ]
  },
  {
   "cell_type": "markdown",
   "metadata": {},
   "source": [
    "When you want to work with groups of Enactments that may or may not be nested inside one another, you can put them together in an EnactmentGroup. When you create an EnactmentGroup or add two EnactmentGroups together, any overlapping Enactments inside will be combined into a single Enactment."
   ]
  },
  {
   "cell_type": "markdown",
   "metadata": {},
   "source": [
    "In this example, we create two EnactmentGroups called `left` and `right`, each containing two Enactments. Because one of the Enactments in `left` overlaps with one of the Enactments in `right`, when we add `left` and `right` together those two Enactments will be combined into one. Thus the resulting EnactmentGroup will contain three Enactments instead of four."
   ]
  },
  {
   "cell_type": "code",
   "execution_count": 32,
   "metadata": {},
   "outputs": [],
   "source": [
    "from legislice import EnactmentGroup\n",
    "\n",
    "establishment_clause = client.read(query=\"/us/const/amendment/I\")\n",
    "establishment_clause.select(\"Congress shall make no law respecting an establishment of religion\")\n",
    "speech_clause = client.read(query=\"/us/const/amendment/I\")\n",
    "speech_clause.select([\"Congress shall make no law\", \"abridging the freedom of speech\"])\n",
    "\n",
    "arms_clause = client.read(query=\"/us/const/amendment/II\")\n",
    "arms_clause.select(\"the right of the people to keep and bear arms, shall not be infringed.\")\n",
    "third_amendment = client.read(query=\"/us/const/amendment/III\")\n",
    "\n",
    "left = EnactmentGroup([establishment_clause, arms_clause])\n",
    "right = EnactmentGroup([third_amendment, speech_clause])\n",
    "\n",
    "combined = left + right"
   ]
  },
  {
   "cell_type": "code",
   "execution_count": 33,
   "metadata": {},
   "outputs": [
    {
     "name": "stdout",
     "output_type": "stream",
     "text": [
      "the group of Enactments:\n",
      "  \"Congress shall make no law respecting an establishment of religion…abridging the freedom of speech…\" (/us/const/amendment/I 1791-12-15)\n",
      "  \"…the right of the people to keep and bear arms, shall not be infringed.\" (/us/const/amendment/II 1791-12-15)\n",
      "  \"No soldier shall, in time of peace be quartered in any house, without the consent of the Owner, nor in time of war, but in a manner to be prescribed by law.\" (/us/const/amendment/III 1791-12-15)\n"
     ]
    }
   ],
   "source": [
    "print(combined)"
   ]
  },
  {
   "cell_type": "code",
   "execution_count": 34,
   "metadata": {},
   "outputs": [
    {
     "data": {
      "text/plain": [
       "3"
      ]
     },
     "execution_count": 34,
     "metadata": {},
     "output_type": "execute_result"
    }
   ],
   "source": [
    "len(combined)"
   ]
  },
  {
   "cell_type": "markdown",
   "metadata": {},
   "source": [
    "## Converting Enactments to JSON"
   ]
  },
  {
   "cell_type": "markdown",
   "metadata": {},
   "source": [
    "When you want a representation of a legislative passage that's precise, machine-readable, and easy to share over the internet, you can use Legislice's JSON schema. Here's how to convert the Enactment object called `combined_enactment`, which was created in the example above, to JSON. \n",
    "\n",
    "This JSON represents a selection of three nonconsecutive passages from the most recent version of section 103 of Title 17 of the United States Code. The `.dumps()` method returns a JSON string, while the `.dump()` method returns a Python dictionary."
   ]
  },
  {
   "cell_type": "code",
   "execution_count": 35,
   "metadata": {},
   "outputs": [
    {
     "data": {
      "text/plain": [
       "'{\"node\": \"/us/usc/t17/s103\", \"heading\": \"Subject matter of copyright: Compilations and derivative works\", \"text_version\": null, \"start_date\": \"2013-07-18\", \"end_date\": null, \"known_revision_date\": false, \"selection\": [], \"anchors\": [], \"children\": [{\"node\": \"/us/usc/t17/s103/a\", \"heading\": \"\", \"text_version\": {\"content\": \"The subject matter of copyright as specified by section 102 includes compilations and derivative works, but protection for a work employing preexisting material in which copyright subsists does not extend to any part of the work in which such material has been used unlawfully.\"}, \"start_date\": \"2013-07-18\", \"end_date\": null, \"known_revision_date\": false, \"selection\": [{\"start\": 0, \"end\": 277}], \"anchors\": [], \"children\": []}, {\"node\": \"/us/usc/t17/s103/b\", \"heading\": \"\", \"text_version\": {\"content\": \"The copyright in a compilation or derivative work extends only to the material contributed by the author of such work, as distinguished from the preexisting material employed in the work, and does not imply any exclusive right in the preexisting material. The copyright in such work is independent of, and does not affect or enlarge the scope, duration, ownership, or subsistence of, any copyright protection in the preexisting material.\"}, \"start_date\": \"2013-07-18\", \"end_date\": null, \"known_revision_date\": false, \"selection\": [{\"start\": 256, \"end\": 300}, {\"start\": 384, \"end\": 437}], \"anchors\": [], \"children\": []}]}'"
      ]
     },
     "execution_count": 35,
     "metadata": {},
     "output_type": "execute_result"
    }
   ],
   "source": [
    "from legislice.schemas import EnactmentSchema\n",
    "\n",
    "schema = EnactmentSchema()\n",
    "schema.dumps(combined_enactment)"
   ]
  },
  {
   "cell_type": "markdown",
   "metadata": {},
   "source": [
    "## Formatting Citations (Experimental)"
   ]
  },
  {
   "cell_type": "markdown",
   "metadata": {},
   "source": [
    "Legislice has preliminary support for serializing citations for Enactment objects based on [Citation Style Language JSON](https://citeproc-js.readthedocs.io/en/latest/csl-json/markup.html). The goal of this feature is to support compatibility with [Jurism](https://juris-m.github.io/). Please [open an issue in the Legislice repo](https://github.com/mscarey/legislice/issues) if you have suggestions for how this feature should develop to support your use case.\n",
    "\n",
    "This CSL-JSON format currently only identifies the cited provision down to the section level. A citation to a subsection or deeper nested provision will be the same as a citation to its parent section."
   ]
  },
  {
   "cell_type": "code",
   "execution_count": 36,
   "metadata": {},
   "outputs": [
    {
     "data": {
      "text/plain": [
       "'Pandemic unemployment assistance'"
      ]
     },
     "execution_count": 36,
     "metadata": {},
     "output_type": "execute_result"
    }
   ],
   "source": [
    "cares_act_benefits = client.read(\"/us/usc/t15/s9021/\")\n",
    "cares_act_benefits.heading"
   ]
  },
  {
   "cell_type": "code",
   "execution_count": 37,
   "metadata": {},
   "outputs": [
    {
     "data": {
      "text/plain": [
       "'15 U.S. Code § 9021 (2020)'"
      ]
     },
     "execution_count": 37,
     "metadata": {},
     "output_type": "execute_result"
    }
   ],
   "source": [
    "citation = cares_act_benefits.as_citation()\n",
    "str(citation)"
   ]
  },
  {
   "cell_type": "code",
   "execution_count": 38,
   "metadata": {},
   "outputs": [
    {
     "data": {
      "text/plain": [
       "'{\"type\": \"legislation\", \"jurisdiction\": \"us\", \"container-title\": \"U.S. Code\", \"volume\": \"15\", \"section\": \"sec. 9021\", \"event-date\": {\"date-parts\": [[\"2020\", 4, 10]]}}'"
      ]
     },
     "execution_count": 38,
     "metadata": {},
     "output_type": "execute_result"
    }
   ],
   "source": [
    "cares_act_benefits.csl_json()"
   ]
  }
 ],
 "metadata": {
  "kernelspec": {
   "display_name": "legislice",
   "language": "python",
   "name": "legislice"
  },
  "language_info": {
   "codemirror_mode": {
    "name": "ipython",
    "version": 3
   },
   "file_extension": ".py",
   "mimetype": "text/x-python",
   "name": "python",
   "nbconvert_exporter": "python",
   "pygments_lexer": "ipython3",
   "version": "3.8.4"
  }
 },
 "nbformat": 4,
 "nbformat_minor": 4
}
